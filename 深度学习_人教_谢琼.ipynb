{
  "nbformat": 4,
  "nbformat_minor": 0,
  "metadata": {
    "colab": {
      "name": "深度学习 人教-谢琼.ipynb",
      "version": "0.3.2",
      "provenance": [],
      "include_colab_link": true
    },
    "kernelspec": {
      "name": "python3",
      "display_name": "Python 3"
    }
  },
  "cells": [
    {
      "cell_type": "markdown",
      "metadata": {
        "id": "view-in-github",
        "colab_type": "text"
      },
      "source": [
        "<a href=\"https://colab.research.google.com/github/benxuu/BeiDreamEasyUi/blob/master/%E6%B7%B1%E5%BA%A6%E5%AD%A6%E4%B9%A0_%E4%BA%BA%E6%95%99_%E8%B0%A2%E7%90%BC.ipynb\" target=\"_parent\"><img src=\"https://colab.research.google.com/assets/colab-badge.svg\" alt=\"Open In Colab\"/></a>"
      ]
    },
    {
      "metadata": {
        "id": "8kD5oPQY-F1J",
        "colab_type": "text"
      },
      "cell_type": "markdown",
      "source": [
        "第三章，初识TensorFlow，预测总分的计算权重，答案为6,3,1；代码sore1c.py，"
      ]
    },
    {
      "metadata": {
        "id": "uP6WqVTM-J9A",
        "colab_type": "code",
        "colab": {
          "base_uri": "https://localhost:8080/",
          "height": 145
        },
        "outputId": "b6f457f2-6f5a-43d0-eb23-1c6f67701b83"
      },
      "cell_type": "code",
      "source": [
        "import tensorflow as tf\n",
        "x1=tf.placeholder(dtype=tf.float32)\n",
        "x2=tf.placeholder(dtype=tf.float32)\n",
        "x3=tf.placeholder(dtype=tf.float32)\n",
        "\n",
        "yTrain = tf.placeholder(dtype=tf.float32)\n",
        "w1=tf.Variable(0.1,dtype=tf.float32)\n",
        "w2=tf.Variable(0.1,dtype=tf.float32)\n",
        "w3=tf.Variable(0.1,dtype=tf.float32)\n",
        "\n",
        "n1=x1*w1\n",
        "n2=x2*w2\n",
        "n3=x3*w3\n",
        "\n",
        "y=n1+n2+n3\n",
        "\n",
        "loss=tf.abs(y-yTrain)\n",
        "optimizer=tf.train.RMSPropOptimizer(0.001)\n",
        "train=optimizer.minimize(loss)\n",
        "sess=tf.Session()\n",
        "init=tf.global_variables_initializer()\n",
        "sess.run(init)\n",
        "for i in range(6000):\n",
        "    result=sess.run([train,x1,x2,x3,w1,w2,w3,y,yTrain,loss],feed_dict={x1:90,x2:80,x3:70,yTrain:85})\n",
        "    result=sess.run([train,x1,x2,x3,w1,w2,w3,y,yTrain,loss],feed_dict={x1:98,x2:95,x3:87,yTrain:96})\n",
        "    if (i%1000==0):\n",
        "        print(result)"
      ],
      "execution_count": 2,
      "outputs": [
        {
          "output_type": "stream",
          "text": [
            "[None, array(98., dtype=float32), array(95., dtype=float32), array(87., dtype=float32), 0.10554425, 0.10563005, 0.1056722, 28.884804, array(96., dtype=float32), 67.1152]\n",
            "[None, array(98., dtype=float32), array(95., dtype=float32), array(87., dtype=float32), 0.3986066, 0.33069745, 0.2951451, 96.45682, array(96., dtype=float32), 0.45681763]\n",
            "[None, array(98., dtype=float32), array(95., dtype=float32), array(87., dtype=float32), 0.45939523, 0.31527463, 0.24004416, 96.15514, array(96., dtype=float32), 0.15514374]\n",
            "[None, array(98., dtype=float32), array(95., dtype=float32), array(87., dtype=float32), 0.522271, 0.30200568, 0.18714713, 96.45438, array(96., dtype=float32), 0.45437622]\n",
            "[None, array(98., dtype=float32), array(95., dtype=float32), array(87., dtype=float32), 0.58308536, 0.28658286, 0.13205872, 96.15633, array(96., dtype=float32), 0.1563263]\n",
            "[None, array(98., dtype=float32), array(95., dtype=float32), array(87., dtype=float32), 0.5848418, 0.2880892, 0.13343368, 95.99221, array(96., dtype=float32), 0.007789612]\n"
          ],
          "name": "stdout"
        }
      ]
    },
    {
      "metadata": {
        "id": "1OL22pKb-CBQ",
        "colab_type": "text"
      },
      "cell_type": "markdown",
      "source": [
        "第四章：简化神经网络模型，使用张量代替原来的独立变量输入，代码score1d.py"
      ]
    },
    {
      "metadata": {
        "id": "sbPKOSFn-JWx",
        "colab_type": "code",
        "colab": {
          "base_uri": "https://localhost:8080/",
          "height": 125
        },
        "outputId": "8f3f2a76-55ec-4afb-cc7e-6d3c7a56ac90"
      },
      "cell_type": "code",
      "source": [
        "import tensorflow as tf\n",
        "x=tf.placeholder(shape=[3],dtype=tf.float32)\n",
        "yTrain = tf.placeholder(shape=[],dtype=tf.float32)\n",
        "w=tf.Variable(tf.zeros([3]),dtype=tf.float32)\n",
        "n=x*w\n",
        "y=tf.reduce_sum(n)\n",
        "\n",
        "loss=tf.abs(y-yTrain)\n",
        "optimizer=tf.train.RMSPropOptimizer(0.001)\n",
        "train=optimizer.minimize(loss)\n",
        "sess=tf.Session()\n",
        "init=tf.global_variables_initializer()\n",
        "sess.run(init)\n",
        "for i in range(6000):\n",
        "    result=sess.run([train,x,w,y,yTrain,loss],feed_dict={x:[90,80,70],yTrain:85})\n",
        "    result=sess.run([train,x,w,y,yTrain,loss],feed_dict={x:[98,95,87],yTrain:96})\n",
        "    if (i%1000==0):\n",
        "        print(result)"
      ],
      "execution_count": 5,
      "outputs": [
        {
          "output_type": "stream",
          "text": [
            "[None, array([98., 95., 87.], dtype=float32), array([0.00554424, 0.00563004, 0.0056722 ], dtype=float32), 0.88480234, array(96., dtype=float32), 95.1152]\n",
            "[None, array([98., 95., 87.], dtype=float32), array([0.39422113, 0.32977572, 0.29594862], dtype=float32), 96.009384, array(96., dtype=float32), 0.009384155]\n",
            "[None, array([98., 95., 87.], dtype=float32), array([0.45708835, 0.31650677, 0.24303839], dtype=float32), 96.306625, array(96., dtype=float32), 0.30662537]\n",
            "[None, array([98., 95., 87.], dtype=float32), array([0.5178843 , 0.30108395, 0.18794999], dtype=float32), 96.006775, array(96., dtype=float32), 0.0067749023]\n",
            "[None, array([98., 95., 87.], dtype=float32), array([0.5807772 , 0.287815  , 0.13505295], dtype=float32), 96.307686, array(96., dtype=float32), 0.30768585]\n",
            "[None, array([98., 95., 87.], dtype=float32), array([0.58203536, 0.28629485, 0.13208804], dtype=float32), 96.02862, array(96., dtype=float32), 0.028617859]\n"
          ],
          "name": "stdout"
        }
      ]
    },
    {
      "metadata": {
        "id": "AokjVjbIOHKM",
        "colab_type": "text"
      },
      "cell_type": "markdown",
      "source": [
        "在TensorFlow中查看和设置张量的形态"
      ]
    },
    {
      "metadata": {
        "id": "oop8IgOEOOMX",
        "colab_type": "code",
        "colab": {
          "base_uri": "https://localhost:8080/",
          "height": 71
        },
        "outputId": "9d6677ba-e1f0-4c85-aaad-575c4e83aa67"
      },
      "cell_type": "code",
      "source": [
        "import tensorflow as tf\n",
        "x=tf.placeholder(dtype=tf.float32)\n",
        "xShape=tf.shape(x)\n",
        "sess=tf.Session()\n",
        "result=sess.run(xShape,feed_dict={x:8})\n",
        "print(result)\n",
        "result=sess.run(xShape,feed_dict={x:[1,2,3]})\n",
        "print(result)\n",
        "result=sess.run(xShape,feed_dict={x:[[1,2,3],[4,5,6]]})\n",
        "print(result)"
      ],
      "execution_count": 6,
      "outputs": [
        {
          "output_type": "stream",
          "text": [
            "[]\n",
            "[3]\n",
            "[2 3]\n"
          ],
          "name": "stdout"
        }
      ]
    },
    {
      "metadata": {
        "id": "hj9Z5fEySw0_",
        "colab_type": "text"
      },
      "cell_type": "markdown",
      "source": [
        "用softmax函数来规范可变参数，继续改进sorce预测"
      ]
    },
    {
      "metadata": {
        "id": "Y0T-_zz7S5mK",
        "colab_type": "code",
        "colab": {
          "base_uri": "https://localhost:8080/",
          "height": 107
        },
        "outputId": "595a5c95-c91a-4d6a-8427-489fc1f4b786"
      },
      "cell_type": "code",
      "source": [
        "import tensorflow as tf\n",
        "x=tf.placeholder(shape=[3],dtype=tf.float32)\n",
        "yTrain = tf.placeholder(shape=[],dtype=tf.float32)\n",
        "w=tf.Variable(tf.zeros([3]),dtype=tf.float32)\n",
        "wn=tf.nn.softmax(w)\n",
        "n=x*wn\n",
        "y=tf.reduce_sum(n)\n",
        "\n",
        "loss=tf.abs(y-yTrain)\n",
        "optimizer=tf.train.RMSPropOptimizer(0.1)\n",
        "train=optimizer.minimize(loss)\n",
        "sess=tf.Session()\n",
        "init=tf.global_variables_initializer()\n",
        "sess.run(init)\n",
        "for i in range(5000):\n",
        "    result=sess.run([train,x,w,wn,y,yTrain,loss],feed_dict={x:[90,80,70],yTrain:85})\n",
        "    result=sess.run([train,x,w,wn,y,yTrain,loss],feed_dict={x:[98,95,87],yTrain:96})\n",
        "    if (i%1000==0):\n",
        "        print(result[3])"
      ],
      "execution_count": 8,
      "outputs": [
        {
          "output_type": "stream",
          "text": [
            "[0.413998   0.32727832 0.2587237 ]\n",
            "[0.53844655 0.38167572 0.0798777 ]\n",
            "[0.524928   0.39789757 0.07717442]\n",
            "[0.60777235 0.32559934 0.06662827]\n",
            "[0.5192314  0.39264944 0.08811913]\n"
          ],
          "name": "stdout"
        }
      ]
    },
    {
      "metadata": {
        "id": "FNs9kWETVNoX",
        "colab_type": "text"
      },
      "cell_type": "markdown",
      "source": [
        "作业：标量【3，,2]与标量7相乘的结果"
      ]
    },
    {
      "metadata": {
        "id": "SeFm7gtFVV4Y",
        "colab_type": "code",
        "colab": {
          "base_uri": "https://localhost:8080/",
          "height": 107
        },
        "outputId": "d0193719-0d5f-48bb-f46e-529ccb0f92b4"
      },
      "cell_type": "code",
      "source": [
        "import tensorflow as tf\n",
        "x=tf.placeholder(shape=[3,2],dtype=tf.float32)\n",
        "y=x*7\n",
        "sess=tf.Session()\n",
        "init=tf.global_variables_initializer()\n",
        "sess.run(init)\n",
        "result=sess.run([x,y],feed_dict={x:[[1,2],[3,4],[90,80]]})\n",
        "print(result)"
      ],
      "execution_count": 10,
      "outputs": [
        {
          "output_type": "stream",
          "text": [
            "[array([[ 1.,  2.],\n",
            "       [ 3.,  4.],\n",
            "       [90., 80.]], dtype=float32), array([[  7.,  14.],\n",
            "       [ 21.,  28.],\n",
            "       [630., 560.]], dtype=float32)]\n"
          ],
          "name": "stdout"
        }
      ]
    },
    {
      "metadata": {
        "id": "DXuF8zu7WmeW",
        "colab_type": "text"
      },
      "cell_type": "markdown",
      "source": [
        "第五章：神经网络解决非线性问题，二分类问题"
      ]
    },
    {
      "metadata": {
        "id": "67ec5QmzZXS7",
        "colab_type": "code",
        "colab": {}
      },
      "cell_type": "code",
      "source": [
        "import tensorflow as tf\n",
        "x=tf.placeholder(shape=[3],dtype=tf.float32)\n",
        "yTrain = tf.placeholder(shape=[],dtype=tf.float32)\n",
        "w=tf.Variable(tf.zeros([3]),dtype=tf.float32)\n",
        "wn=tf.nn.softmax(w)\n",
        "n1=x*wn\n",
        "n2=tf.reduce_sum(n1)\n",
        "y=tf.nn.sigmoid(n2)\n",
        "\n",
        "loss=tf.abs(y-yTrain)\n",
        "optimizer=tf.train.RMSPropOptimizer(0.1)\n",
        "train=optimizer.minimize(loss)\n",
        "sess=tf.Session()\n",
        "init=tf.global_variables_initializer()\n",
        "sess.run(init)\n",
        "for i in range(5000):\n",
        "    result=sess.run([train,x,w,wn,y,yTrain,loss],feed_dict={x:[90,80,70],yTrain:85})\n",
        "    result=sess.run([train,x,w,wn,y,yTrain,loss],feed_dict={x:[98,95,87],yTrain:96})\n",
        "    if (i%1000==0):\n",
        "        print(result[3])"
      ],
      "execution_count": 0,
      "outputs": []
    },
    {
      "metadata": {
        "id": "Od12jAlQaMvC",
        "colab_type": "text"
      },
      "cell_type": "markdown",
      "source": [
        "生成随机训练数据"
      ]
    },
    {
      "metadata": {
        "id": "rnNsQj4aaSAK",
        "colab_type": "code",
        "colab": {
          "base_uri": "https://localhost:8080/",
          "height": 53
        },
        "outputId": "9e4f28b3-c000-4313-f6f2-d5802b5ce3d4"
      },
      "cell_type": "code",
      "source": [
        "import random\n",
        "random.seed()\n",
        "xData=[int(random.random()*101),int(random.random()*101),int(random.random()*101)]\n",
        "xAll=xData[0]*0.6+xData[1]*0.3+xData[2]*0.1\n",
        "if xAll>=95:\n",
        "  yTrainData=1\n",
        "else:\n",
        "  yTrainData=0\n",
        "print(\"xData:%s\" % xData)\n",
        "print(\"yTrainData:%s\" % yTrainData)\n"
      ],
      "execution_count": 11,
      "outputs": [
        {
          "output_type": "stream",
          "text": [
            "xData:[40, 74, 9]\n",
            "yTrainData:0\n"
          ],
          "name": "stdout"
        }
      ]
    }
  ]
}